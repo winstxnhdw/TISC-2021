{
 "cells": [
  {
   "cell_type": "markdown",
   "metadata": {},
   "source": [
    "# Level 2"
   ]
  },
  {
   "cell_type": "markdown",
   "metadata": {},
   "source": [
    "## Part 2\n",
    "\n",
    "This level contains 2 flags and both flags can be found independently from the same pcap file in Part 1."
   ]
  },
  {
   "cell_type": "code",
   "execution_count": 1,
   "metadata": {},
   "outputs": [],
   "source": [
    "from base64 import b32decode\n",
    "\n",
    "import string"
   ]
  },
  {
   "cell_type": "markdown",
   "metadata": {},
   "source": [
    "### Check for encodings"
   ]
  },
  {
   "cell_type": "code",
   "execution_count": 26,
   "metadata": {},
   "outputs": [
    {
     "name": "stdout",
     "output_type": "stream",
     "text": [
      "['d33d21NRXXEZL', 'tentopspot', 'gtld-servers', 'nstld', 'verisign-grs', 'd33d05NEBUXA4', 'tentopspot', 'gtld-servers', 'nstld', 'verisign-grs', 'd33d453VNUQGI', 'tentopspot', 'gtld-servers', 'nstld', 'verisign-grs', 'd33d0433MN5ZC', 'tentopspot', 'gtld-servers', 'nstld', 'verisign-grs', 'd33d02A43JOQQ', 'tentopspot', 'gtld-servers', 'nstld', 'verisign-grs', 'd33d02GC3LFOQ', 'tentopspot', 'gtld-servers', 'nstld', 'verisign-grs', 'd33d17WCAQKCI', 'tentopspot', 'gtld-servers', 'nstld', 'verisign-grs', 'd33d01NCEKRSH', 'tentopspot', 'gtld-servers', 'nstld', 'verisign-grs', 'd33d01JBEUUS2', 'tentopspot', 'gtld-servers', 'nstld', 'verisign-grs', 'd33d01MJVHE6U', 'tentopspot', 'gtld-servers', 'nstld', 'verisign-grs', 'aEt\\t', 'd33d01CRKJJVI', 'tentopspot', 'gtld-servers', 'nstld', 'verisign-grs', 'd33d09VKWK5MF', 'tentopspot', 'gtld-servers', 'nstld', 'verisign-grs', 'd33d01SWRQGEZ', 'tentopspot', 'gtld-servers', 'nstld', 'verisign-grs', 'd33d01DGNBVGY', 'tentopspot', 'gtld-servers', 'nstld', 'verisign-grs', 'd33d013TQOLBM', 'tentopspot', 'gtld-servers', 'nstld', 'verisign-grs', 'd33d01JRWIZLG', 'tentopspot', 'gtld-servers', 'nstld', 'verisign-grs', 'd33d09M5UGS2T', 'tentopspot', 'gtld-servers', 'nstld', 'verisign-grs', 'd33d17LNRWW43', 'tentopspot', 'gtld-servers', 'nstld', 'verisign-grs', 'd33d043QOFZHG', 'tentopspot', 'gtld-servers', 'nstld', 'verisign-grs', 'd33d205DVOZ3X', 'tentopspot', 'gtld-servers', 'nstld', 'verisign-grs', 'd33d16Q6L2FMX', 'tentopspot', 'gtld-servers', 'nstld', 'verisign-grs', 'd33d33SA3LBMV', 'tentopspot', 'gtld-servers', 'nstld', 'verisign-grs', 'd33d23RWK3TBO', 'tentopspot', 'gtld-servers', 'nstld', 'verisign-grs', 'd33d04MQHM33M', 'tentopspot', 'gtld-servers', 'nstld', 'verisign-grs', 'd33d29OV2HAYL', 'tentopspot', 'gtld-servers', 'nstld', 'verisign-grs', 'd33d17UEBRW63', 'tentopspot', 'gtld-servers', 'nstld', 'verisign-grs', 'd33d05TENFWWK', 'tentopspot', 'gtld-servers', 'nstld', 'verisign-grs', 'd33d013TUOVWS', 'tentopspot', 'gtld-servers', 'nstld', 'verisign-grs', 'd33d01AZLHMVZ', 'tentopspot', 'gtld-servers', 'nstld', 'verisign-grs', 'd33d11XIYLTFY', 'tentopspot', 'gtld-servers', 'nstld', 'verisign-grs', 'd33d33QHAZLMN', 'tentopspot', 'gtld-servers', 'nstld', 'verisign-grs', 'd33d07RSW45DF', 'tentopspot', 'gtld-servers', 'nstld', 'verisign-grs', 'd33d01ONYXKZJ', 'tentopspot', 'gtld-servers', 'nstld', 'verisign-grs', 'd33d01AOZUXIY', 'tentopspot', 'gtld-servers', 'nstld', 'verisign-grs', 'd33d01LFEBYG6', 'tentopspot', 'gtld-servers', 'nstld', 'verisign-grs', 'd33d204TUORUX', 'tentopspot', 'gtld-servers', 'nstld', 'verisign-grs', 'd33d01I33SEB2', 'tentopspot', 'gtld-servers', 'nstld', 'verisign-grs', 'd33d02HK4TQNF', 'tentopspot', 'gtld-servers', 'nstld', 'verisign-grs', 'd33d49ZSYIDTM', 'tentopspot', 'gtld-servers', 'nstld', 'verisign-grs', 'd33d01VSCAZTB', 'tentopspot', 'gtld-servers', 'nstld', 'verisign-grs', 'd33d23MNUWY2L', 'tentopspot', 'gtld-servers', 'nstld', 'verisign-grs', 'd33d53TNFZSA2', 'tentopspot', 'gtld-servers', 'nstld', 'verisign-grs', 'd33d14LQON2W2', 'tentopspot', 'gtld-servers', 'nstld', 'verisign-grs', 'd33d48LRAMR2W', 'tentopspot', 'gtld-servers', 'nstld', 'verisign-grs', 'd33d28S4ZAOZS', 'tentopspot', 'gtld-servers', 'nstld', 'verisign-grs', 'd33d40WYIDJNZ', 'tentopspot', 'gtld-servers', 'nstld', 'verisign-grs', 'd33d182GK4TEO', 'tentopspot', 'gtld-servers', 'nstld', 'verisign-grs', 'd33d38VWSA3LJ', 'tentopspot', 'gtld-servers', 'nstld', 'verisign-grs', 'd33d28FQQGC5B', 'tentopspot', 'gtld-servers', 'nstld', 'verisign-grs', 'd33d40AMRQXA2', 'tentopspot', 'gtld-servers', 'nstld', 'verisign-grs', 'd33d18LCOVZSA', 'tentopspot', 'gtld-servers', 'nstld', 'verisign-grs', 'd33d32YLVM52W', 'tentopspot', 'gtld-servers', 'nstld', 'verisign-grs', 'd33d22KLRANVX', 'tentopspot', 'gtld-servers', 'nstld', 'verisign-grs', 'd33d08XEYTJEB', 'tentopspot', 'gtld-servers', 'nstld', 'verisign-grs', 'd33d383HK3DQO', 'tentopspot', 'gtld-servers', 'nstld', 'verisign-grs', 'd33d49V2GC5DF', 'tentopspot', 'gtld-servers', 'nstld', 'verisign-grs', 'd33d26EB2WY5D', 'tentopspot', 'gtld-servers', 'nstld', 'verisign-grs', 'd33d24SNFRWSZ', 'tentopspot', 'gtld-servers', 'nstld', 'verisign-grs', 'd33d14LTEB3HK', 'tentopspot', 'gtld-servers', 'nstld', 'verisign-grs', 'd33d303DQOV2G', 'tentopspot', 'gtld-servers', 'nstld', 'verisign-grs', 'd33d12C5DFFYQ', 'tentopspot', 'gtld-servers', 'nstld', 'verisign-grs', 'd33d40GK5DJMF', 'tentopspot', 'gtld-servers', 'nstld', 'verisign-grs', 'd33d34WSAYJAO', 'tentopspot', 'gtld-servers', 'nstld', 'verisign-grs', 'd33d46F2WC3JA', 'tentopspot', 'gtld-servers', 'nstld', 'verisign-grs', 'd33d28MV2SA3T', 'tentopspot', 'gtld-servers', 'nstld', 'verisign-grs', 'd33d06JONUSAZ', 'tentopspot', 'gtld-servers', 'nstld', 'verisign-grs', 'twvD', 'd33d22LVNFZW2', 'tentopspot', 'gtld-servers', 'nstld', 'verisign-grs', 'a^I\\t', 'd33d2133EEBTG', 'tentopspot', 'gtld-servers', 'nstld', 'verisign-grs', 'd33d03C5LDNFR', 'tentopspot', 'gtld-servers', 'nstld', 'verisign-grs', 'd33d17HK4ZAMF', 'tentopspot', 'gtld-servers', 'nstld', 'verisign-grs', 'd33d01RSAYJAN', 'tentopspot', 'gtld-servers', 'nstld', 'verisign-grs', 'd33d04Z2W4YZO', 'tentopspot', 'gtld-servers', 'nstld', 'verisign-grs', 'd33d35EBSXI2L', 'tentopspot', 'gtld-servers', 'nstld', 'verisign-grs', 'd33d04BNUQHG2', 'tentopspot', 'gtld-servers', 'nstld', 'verisign-grs', 'd33d52LUEBQW2', 'tentopspot', 'gtld-servers', 'nstld', 'verisign-grs', 'd33d15ZLUEBSX', 'tentopspot', 'gtld-servers', 'nstld', 'verisign-grs', 'd33d05QIDFOUQ', 'tentopspot', 'gtld-servers', 'nstld', 'verisign-grs', 'd33d41GY2LHOV', 'tentopspot', 'gtld-servers', 'nstld', 'verisign-grs', 'd33d33WGCIDHO', 'tentopspot', 'gtld-servers', 'nstld', 'verisign-grs', 'd33d61JQXM2LE', 'tentopspot', 'gtld-servers', 'nstld', 'verisign-grs', 'd33d52MEQHA5L', 'tentopspot', 'gtld-servers', 'nstld', 'verisign-grs', 'd33d34MOZUW4Y', 'tentopspot', 'gtld-servers', 'nstld', 'verisign-grs', 'd33d10LSEBSWO', 'tentopspot', 'gtld-servers', 'nstld', 'verisign-grs', 'd33d54ZLUEBQW', 'tentopspot', 'gtld-servers', 'nstld', 'verisign-grs', 'd33d31GIDVOJX', 'tentopspot', 'gtld-servers', 'nstld', 'verisign-grs', 'd33d01GCLRANR', 'tentopspot', 'gtld-servers', 'nstld', 'verisign-grs', 'd33d45XXEZLNE', 'tentopspot', 'gtld-servers', 'nstld', 'verisign-grs', 'd33d01BUXA43V', 'tentopspot', 'gtld-servers', 'nstld', 'verisign-grs', 'd33d01NUQGI33', 'tentopspot', 'gtld-servers', 'nstld', 'verisign-grs', 'd33d17MN5ZCA4', 'tentopspot', 'gtld-servers', 'nstld', 'verisign-grs', 'd33d203JOQQGC', 'tentopspot', 'gtld-servers', 'nstld', 'verisign-grs', 'd33d543LFOQWC', 'tentopspot', 'gtld-servers', 'nstld', 'verisign-grs', 'd33d01AY3PNZZ', 'tentopspot', 'gtld-servers', 'nstld', 'verisign-grs', 'e\"4P', 'd33d17WKY3UMV', 'tentopspot', 'gtld-servers', 'nstld', 'verisign-grs', 'd33d012HK4RAM', 'tentopspot', 'gtld-servers', 'nstld', 'verisign-grs', 'd33d01FSGS4DJ', 'tentopspot', 'gtld-servers', 'nstld', 'verisign-grs', 'd33d02ONRWS3T', 'tentopspot', 'gtld-servers', 'nstld', 'verisign-grs', 'd33d02HEBSWY2', 'tentopspot', 'gtld-servers', 'nstld', 'verisign-grs', 'd33d17LUFYQG2', 'tentopspot', 'gtld-servers', 'nstld', 'verisign-grs', 'd33d01YLFMNSW']\n"
     ]
    }
   ],
   "source": [
    "traffic_list = !strings traffic.pcap\n",
    "print(traffic_list[:500])"
   ]
  },
  {
   "cell_type": "markdown",
   "metadata": {},
   "source": [
    "### Extract encodings from file"
   ]
  },
  {
   "cell_type": "code",
   "execution_count": 18,
   "metadata": {},
   "outputs": [
    {
     "name": "stdout",
     "output_type": "stream",
     "text": [
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n"
     ]
    }
   ],
   "source": [
    "with open('traffic.pcap', errors=\"ignore\") as f:\n",
    "    result = []\n",
    "    encodings = []\n",
    "\n",
    "    for c in f.read():\n",
    "        if c in string.printable:\n",
    "            result.append(c.strip())\n",
    "            continue\n",
    "\n",
    "        line = ''.join(result)\n",
    "        if 'd33d' in line:\n",
    "            encodings.append(line[6:13])\n",
    "        \n",
    "        result.clear()\n",
    "\n",
    "index = encodings[1:].index(encodings[0])\n",
    "encodings_string = ''.join(encodings[:index + 1])\n",
    "\n",
    "print(encodings_string)"
   ]
  },
  {
   "cell_type": "markdown",
   "metadata": {},
   "source": [
    "### Decode Base32 encodings"
   ]
  },
  {
   "cell_type": "code",
   "execution_count": 19,
   "metadata": {},
   "outputs": [
    {
     "name": "stdout",
     "output_type": "stream",
     "text": [
      "b'lorem ipsum dolor sit amet, ABCDEFGHIJKLMNOPQRSTUVWXYZ0123456789abcdefghijklmnopqrstuvwxyz+/ maecenas volutpat condimentum egestas. pellentesque vitae porttitor turpis, sed facilisis ipsum. duis vel interdum mi, at dapibus augue. morbi vulputate ultricies vulputate. etiam a quam eu nisi euismod faucibus ac a nunc. etiam sit amet ex eu ligula gravida pulvinar eget ac urna. lorem ipsum dolor sit amet, consectetur adipiscing elit. maecenas volutpat condimentum egestas. TISC{n3vEr_0dd_0r_Ev3n} etiam a quam eu nisi euismod faucibus ac a nunc. etiam a quam eu nisi euismod faucibus ac a nunc. etiam sit amet ex eu ligula gravida pulvinar eget ac urna. lorem ipsum dolor sit amet, consectetur adipiscing elit. maecenas volutpat condimentum egestas. etiam a quam eu nisi euismod faucibus ac a nunc. etiam sit amet ex eu ligula gravida pulvinar eget ac urna. lorem ipsum dolor sit amet, consectetur adipiscing elit. maecenas volutpat condimentum egestas. maecenas volutpat condimentum egestas. maecenas volutpat condimentum egestas. lorem ipsum dolor sit amet, ABCDEFGHIJKLMNOPQRSTUVWXYZ0123456789abcdefghijklmnopqrstuvwxyz+/ maecenas volutpat condimentum egestas. pellentesque vitae porttitor turpis, sed facilisis ipsum. duis vel interdum mi, at dapibus augue. morbi vulputate ultricies vulputate. etiam a quam eu nisi euismod faucibus ac a nunc. etiam sit amet ex eu ligula gravida pulvinar eget ac urna. lorem ipsum dolor sit amet, consectetur adipiscing elit. maecenas volutpat condimentum egestas. TISC{n3vEr_0dd_0r_Ev3n} etiam a quam eu nisi euismod faucibus ac a nunc. etiam a quam eu nisi euismod faucibus ac a nunc. etiam sit amet ex eu ligula gravida pulvinar eget ac urna. lorem ipsum dolor sit amet, consectetur adipiscing elit. maecenas volutpat condimentum egestas. etiam a quam eu nisi euismod faucibus ac a nunc. etiam sit amet ex eu ligula gravida pulvinar eget ac urna. lorem ipsum dolor sit amet, consectetur adipiscing elit. maecenas volutpat condimentum egestas. maecenas volutpat condimentum egestas. maecenas volutpat condimentum egestas. lorem ipsum dolor sit amet, ABCDEFGHIJKLMNOPQRSTUVWXYZ0123456789abcdefghijklmnopqrstuvwxyz+/ maecenas volutpat condimentum egestas. pellentesque vitae porttitor turpis, sed facilisis ipsum. duis vel interdum mi, at dapibus augue. morbi vulputate ultricies vulputate. etiam a quam eu nisi euismod faucibus ac a nunc. etiam sit amet ex eu ligula gravida pulvinar eget ac urna. lorem ipsum dolor sit amet, consectetur adipiscing elit. maecenas volutpat condimentum egestas. TISC{n3vEr_0dd_0r_Ev3n} etiam a quam eu nisi euismod faucibus ac a nunc. etiam a quam eu nisi euismod faucibus ac a nunc. etiam sit amet ex eu ligula gravida pulvinar eget ac urna. lorem ipsum dolor sit amet, consectetur adipiscing elit. maecenas volutpat condimentum egestas. etiam a quam eu nisi euismod faucibus ac a nunc. etiam sit amet ex eu ligula gravida pulvinar eget ac urna. lorem ipsum dolor sit amet, consectetur adipiscing elit. maecenas volutpat condimentum egestas. maecenas volutpat condimentum egestas. maecenas volutpat condimentum egestas. lorem ipsum dolor sit amet, ABCDEFGHIJKLMNOPQRSTUVWXYZ0123456789abcdefghijklmnopqrstuvwxyz+/ maecenas volutpat condimentum egestas. pellentesque vitae porttitor turpis, sed facilisis ipsum. duis vel interdum mi, at dapibus augue. morbi vulputate ultricies vulputate. etiam a quam eu nisi euismod faucibus ac a nunc. etiam sit amet ex eu ligula gravida pulvinar eget ac urna. '\n"
     ]
    }
   ],
   "source": [
    "decoded = b32decode(encodings_string)\n",
    "print(decoded)"
   ]
  },
  {
   "cell_type": "code",
   "execution_count": 20,
   "metadata": {},
   "outputs": [
    {
     "name": "stdout",
     "output_type": "stream",
     "text": [
      "TISC{n3vEr_0dd_0r_Ev3n}\n"
     ]
    }
   ],
   "source": [
    "for word in str(decoded).split(' '):\n",
    "    if 'TISC' in word:\n",
    "        print(word)\n",
    "        break"
   ]
  }
 ],
 "metadata": {
  "interpreter": {
   "hash": "f606327b771cfc9d39d8a908aa782ab2cb9b443be52e26fb6ff640c8873eb9c4"
  },
  "kernelspec": {
   "display_name": "Python 3.9.7 64-bit ('tf-gpu': conda)",
   "language": "python",
   "name": "python3"
  },
  "language_info": {
   "codemirror_mode": {
    "name": "ipython",
    "version": 3
   },
   "file_extension": ".py",
   "mimetype": "text/x-python",
   "name": "python",
   "nbconvert_exporter": "python",
   "pygments_lexer": "ipython3",
   "version": "3.9.7"
  },
  "orig_nbformat": 4
 },
 "nbformat": 4,
 "nbformat_minor": 2
}
