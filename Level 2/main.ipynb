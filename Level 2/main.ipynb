{
 "cells": [
  {
   "cell_type": "markdown",
   "metadata": {},
   "source": [
    "# Level 2"
   ]
  },
  {
   "cell_type": "markdown",
   "metadata": {},
   "source": [
    "## Part 2\n",
    "\n",
    "This level contains 2 flags and both flags can be found independently from the same pcap file in Part 1."
   ]
  },
  {
   "cell_type": "code",
   "execution_count": 1,
   "metadata": {},
   "outputs": [],
   "source": [
    "from base64 import b32decode\n",
    "import string\n",
    "import re"
   ]
  },
  {
   "cell_type": "code",
   "execution_count": 2,
   "metadata": {},
   "outputs": [
    {
     "name": "stdout",
     "output_type": "stream",
     "text": [
      "TISC{n3vEr_0dd_0r_Ev3n}\n"
     ]
    }
   ],
   "source": [
    "with open('traffic.pcap', errors=\"ignore\") as f:\n",
    "    result = []\n",
    "    encodings = []\n",
    "\n",
    "    for c in f.read():\n",
    "        if c in string.printable:\n",
    "            result.append(c.strip())\n",
    "            continue\n",
    "\n",
    "        line = ''.join(result)\n",
    "        if 'd33d' in line:\n",
    "            encodings.append(line[6:13])\n",
    "        \n",
    "        result.clear()\n",
    "\n",
    "encodings_string = ''.join(encodings)\n",
    "encodings_compatible = re.findall('.'*8+'?', encodings_string)\n",
    "decoded = b32decode(''.join(encodings_compatible))\n",
    "\n",
    "for word in str(decoded).split(' '):\n",
    "    if 'TISC' in word:\n",
    "        print(word)\n",
    "        break"
   ]
  }
 ],
 "metadata": {
  "interpreter": {
   "hash": "f606327b771cfc9d39d8a908aa782ab2cb9b443be52e26fb6ff640c8873eb9c4"
  },
  "kernelspec": {
   "display_name": "Python 3.9.7 64-bit ('tf-gpu': conda)",
   "language": "python",
   "name": "python3"
  },
  "language_info": {
   "codemirror_mode": {
    "name": "ipython",
    "version": 3
   },
   "file_extension": ".py",
   "mimetype": "text/x-python",
   "name": "python",
   "nbconvert_exporter": "python",
   "pygments_lexer": "ipython3",
   "version": "3.9.7"
  },
  "orig_nbformat": 4
 },
 "nbformat": 4,
 "nbformat_minor": 2
}
